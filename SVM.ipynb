{
  "nbformat": 4,
  "nbformat_minor": 0,
  "metadata": {
    "colab": {
      "provenance": [],
      "authorship_tag": "ABX9TyMj8tiy6Qyfloi0S12Az8ID",
      "include_colab_link": true
    },
    "kernelspec": {
      "name": "python3",
      "display_name": "Python 3"
    },
    "language_info": {
      "name": "python"
    }
  },
  "cells": [
    {
      "cell_type": "markdown",
      "metadata": {
        "id": "view-in-github",
        "colab_type": "text"
      },
      "source": [
        "<a href=\"https://colab.research.google.com/github/MATHKIMS/dongwoo_project/blob/main/SVM.ipynb\" target=\"_parent\"><img src=\"https://colab.research.google.com/assets/colab-badge.svg\" alt=\"Open In Colab\"/></a>"
      ]
    },
    {
      "cell_type": "code",
      "execution_count": 1,
      "metadata": {
        "id": "ZGRwxVPvrxo2"
      },
      "outputs": [],
      "source": [
        "### Packages\n",
        "import os\n",
        "import cv2\n",
        "import numpy as np\n",
        "from matplotlib import pyplot as plt"
      ]
    },
    {
      "cell_type": "code",
      "source": [
        "### 출력 영상 크기\n",
        "plt.rcParams[\"figure.figsize\"] = (16,9) # 그림(figure)의 크기. (가로, 세로) 인치 단위\n",
        "\n",
        "### 출력 영상에 한글 표시\n",
        "plt.rcParams['font.family'] = \"Gulim\"   # 'AppleGothic' in mac"
      ],
      "metadata": {
        "id": "o7EqYI0Jrygl"
      },
      "execution_count": 2,
      "outputs": []
    },
    {
      "cell_type": "code",
      "source": [
        "### changes the current working directory\n",
        "os.chdir(r'D:\\image')"
      ],
      "metadata": {
        "colab": {
          "base_uri": "https://localhost:8080/",
          "height": 191
        },
        "id": "1bMDBijDr2Ka",
        "outputId": "00be5720-5702-41ab-d470-15898351a7dc"
      },
      "execution_count": 3,
      "outputs": [
        {
          "output_type": "error",
          "ename": "FileNotFoundError",
          "evalue": "ignored",
          "traceback": [
            "\u001b[0;31m---------------------------------------------------------------------------\u001b[0m",
            "\u001b[0;31mFileNotFoundError\u001b[0m                         Traceback (most recent call last)",
            "\u001b[0;32m<ipython-input-3-341f126b10b9>\u001b[0m in \u001b[0;36m<cell line: 2>\u001b[0;34m()\u001b[0m\n\u001b[1;32m      1\u001b[0m \u001b[0;31m### changes the current working directory\u001b[0m\u001b[0;34m\u001b[0m\u001b[0;34m\u001b[0m\u001b[0m\n\u001b[0;32m----> 2\u001b[0;31m \u001b[0mos\u001b[0m\u001b[0;34m.\u001b[0m\u001b[0mchdir\u001b[0m\u001b[0;34m(\u001b[0m\u001b[0;34mr'D:\\image'\u001b[0m\u001b[0;34m)\u001b[0m\u001b[0;34m\u001b[0m\u001b[0;34m\u001b[0m\u001b[0m\n\u001b[0m",
            "\u001b[0;31mFileNotFoundError\u001b[0m: [Errno 2] No such file or directory: 'D:\\\\image'"
          ]
        }
      ]
    },
    {
      "cell_type": "code",
      "source": [
        "### 영상 출력 함수\n",
        "def fn_imshow(img, axis='off', fig_size=''):\n",
        "    if fig_size!='': plt.figure(figsize=fig_size)\n",
        "    img_rgb = cv2.cvtColor(img, cv2.COLOR_BGR2RGB)\n",
        "    plt.imshow(img_rgb)\n",
        "    if axis!='on': plt.axis('off')\n",
        "    plt.show()"
      ],
      "metadata": {
        "id": "FxsAvpUYr5me"
      },
      "execution_count": 4,
      "outputs": []
    },
    {
      "cell_type": "code",
      "source": [
        "### Packages\n",
        "!pip install mnist\n",
        "import mnist"
      ],
      "metadata": {
        "colab": {
          "base_uri": "https://localhost:8080/"
        },
        "id": "1LWSttq3r51f",
        "outputId": "078baf57-4c6e-4d1b-c3bb-4115db834d5f"
      },
      "execution_count": 5,
      "outputs": [
        {
          "output_type": "stream",
          "name": "stdout",
          "text": [
            "Collecting mnist\n",
            "  Downloading mnist-0.2.2-py2.py3-none-any.whl (3.5 kB)\n",
            "Requirement already satisfied: numpy in /usr/local/lib/python3.10/dist-packages (from mnist) (1.22.4)\n",
            "Installing collected packages: mnist\n",
            "Successfully installed mnist-0.2.2\n"
          ]
        }
      ]
    },
    {
      "cell_type": "code",
      "source": [
        "### 영상 추출\n",
        "idx = 0\n",
        "sample_img = mnist.train_images()[idx]\n",
        "\n",
        "### 영상에 해당하는 숫자\n",
        "no = mnist.train_labels()[idx]\n",
        "\n",
        "### 영상 출력\n",
        "plt.figure(figsize=(4,4))\n",
        "plt.imshow(sample_img, cmap='binary')\n",
        "plt.axis('off')\n",
        "plt.title(str(no))\n",
        "plt.show()"
      ],
      "metadata": {
        "colab": {
          "base_uri": "https://localhost:8080/",
          "height": 714
        },
        "id": "3ghXrBtJr848",
        "outputId": "4d919c9f-b699-4b5a-c969-bc27c14df489"
      },
      "execution_count": 6,
      "outputs": [
        {
          "output_type": "stream",
          "name": "stderr",
          "text": [
            "WARNING:matplotlib.font_manager:findfont: Font family 'Gulim' not found.\n",
            "WARNING:matplotlib.font_manager:findfont: Font family 'Gulim' not found.\n",
            "WARNING:matplotlib.font_manager:findfont: Font family 'Gulim' not found.\n",
            "WARNING:matplotlib.font_manager:findfont: Font family 'Gulim' not found.\n",
            "WARNING:matplotlib.font_manager:findfont: Font family 'Gulim' not found.\n",
            "WARNING:matplotlib.font_manager:findfont: Font family 'Gulim' not found.\n",
            "WARNING:matplotlib.font_manager:findfont: Font family 'Gulim' not found.\n",
            "WARNING:matplotlib.font_manager:findfont: Font family 'Gulim' not found.\n",
            "WARNING:matplotlib.font_manager:findfont: Font family 'Gulim' not found.\n",
            "WARNING:matplotlib.font_manager:findfont: Font family 'Gulim' not found.\n",
            "WARNING:matplotlib.font_manager:findfont: Font family 'Gulim' not found.\n",
            "WARNING:matplotlib.font_manager:findfont: Font family 'Gulim' not found.\n",
            "WARNING:matplotlib.font_manager:findfont: Font family 'Gulim' not found.\n",
            "WARNING:matplotlib.font_manager:findfont: Font family 'Gulim' not found.\n",
            "WARNING:matplotlib.font_manager:findfont: Font family 'Gulim' not found.\n",
            "WARNING:matplotlib.font_manager:findfont: Font family 'Gulim' not found.\n",
            "WARNING:matplotlib.font_manager:findfont: Font family 'Gulim' not found.\n",
            "WARNING:matplotlib.font_manager:findfont: Font family 'Gulim' not found.\n",
            "WARNING:matplotlib.font_manager:findfont: Font family 'Gulim' not found.\n"
          ]
        },
        {
          "output_type": "display_data",
          "data": {
            "text/plain": [
              "<Figure size 400x400 with 1 Axes>"
            ],
            "image/png": "[encoded data removed]"
          },
          "metadata": {}
        }
      ]
    },
    {
      "cell_type": "code",
      "source": [
        "### Package & module\n",
        "import pandas as pd\n",
        "import numpy as np\n",
        "from sklearn.model_selection import train_test_split\n",
        "from sklearn.preprocessing import StandardScaler\n",
        "from sklearn.svm import SVC\n",
        "from sklearn.metrics import classification_report"
      ],
      "metadata": {
        "id": "Vmm9hDEAr_HI"
      },
      "execution_count": 7,
      "outputs": []
    },
    {
      "cell_type": "code",
      "source": [
        "### Input & output data - 1000개\n",
        "X = mnist.train_images()[:1000]\n",
        "y = mnist.train_labels()[:1000]\n",
        "print('X.shape: ', X.shape, ' y.shape: ', y.shape)"
      ],
      "metadata": {
        "colab": {
          "base_uri": "https://localhost:8080/"
        },
        "id": "unLQeTsPsFpG",
        "outputId": "1cf1928e-7f1b-4ac5-bd24-f107ddfea44f"
      },
      "execution_count": 8,
      "outputs": [
        {
          "output_type": "stream",
          "name": "stdout",
          "text": [
            "X.shape:  (1000, 28, 28)  y.shape:  (1000,)\n"
          ]
        }
      ]
    },
    {
      "cell_type": "code",
      "source": [
        "X.shape[0]"
      ],
      "metadata": {
        "colab": {
          "base_uri": "https://localhost:8080/"
        },
        "id": "9Ouc3F8muDU4",
        "outputId": "ca0e5c73-cbf8-4a87-91d1-3f6c013cb55b"
      },
      "execution_count": 10,
      "outputs": [
        {
          "output_type": "execute_result",
          "data": {
            "text/plain": [
              "1000"
            ]
          },
          "metadata": {},
          "execution_count": 10
        }
      ]
    },
    {
      "cell_type": "code",
      "source": [
        "### 구조 변경: 2차원 → 1차원\n",
        "X = X.reshape(X.shape[0], 28*28)"
      ],
      "metadata": {
        "id": "uXAn2l3EsLUW"
      },
      "execution_count": 9,
      "outputs": []
    },
    {
      "cell_type": "code",
      "source": [
        "### Split - train & test data\n",
        "X_train_raw, X_test_raw, y_train, y_test = train_test_split(X, y,\n",
        "                                                    train_size=0.6,\n",
        "                                                    stratify=y,\n",
        "                                                    shuffle=True,\n",
        "                                                    random_state=7513)"
      ],
      "metadata": {
        "id": "HvIwa0anuIZ-"
      },
      "execution_count": 11,
      "outputs": []
    },
    {
      "cell_type": "code",
      "source": [
        "### 표준화 변환\n",
        "scaler = StandardScaler()\n",
        "scaler.fit(X_train_raw)\n",
        "X_train = scaler.transform(X_train_raw)\n",
        "X_test = scaler.transform(X_test_raw)"
      ],
      "metadata": {
        "id": "z3_GhXBLuNUe"
      },
      "execution_count": 12,
      "outputs": []
    },
    {
      "cell_type": "code",
      "source": [
        "### RBF(Radial Basis Function) 커널을 사용한 서포트 벡터 머신\n",
        "svc = SVC(kernel = \"rbf\", C = 10, gamma = 0.001, random_state = 7513)"
      ],
      "metadata": {
        "id": "2PR5EZIpuQeA"
      },
      "execution_count": 13,
      "outputs": []
    },
    {
      "cell_type": "code",
      "source": [
        "### 모형 적합\n",
        "fit_svc = svc.fit(X_train, y_train)"
      ],
      "metadata": {
        "id": "YuenptpeuQ3I"
      },
      "execution_count": 14,
      "outputs": []
    },
    {
      "cell_type": "code",
      "source": [
        "### 검정자료 예측\n",
        "pred_svc = fit_svc.predict(X_test)"
      ],
      "metadata": {
        "id": "NBXc8I_UuUMv"
      },
      "execution_count": 15,
      "outputs": []
    },
    {
      "cell_type": "code",
      "source": [
        "### 정오분류표\n",
        "pd.crosstab(y_test, pred_svc)"
      ],
      "metadata": {
        "colab": {
          "base_uri": "https://localhost:8080/",
          "height": 394
        },
        "id": "cMEPi3yuuWg-",
        "outputId": "26769518-09c0-417a-d478-8a8786e6c66e"
      },
      "execution_count": 16,
      "outputs": [
        {
          "output_type": "execute_result",
          "data": {
            "text/plain": [
              "col_0   0   1   2   3   4   5   6   7   8   9\n",
              "row_0                                        \n",
              "0      38   0   1   0   0   0   0   0   0   0\n",
              "1       0  46   0   0   0   0   0   0   0   0\n",
              "2       0   0  37   0   0   0   1   0   1   0\n",
              "3       0   0   4  33   0   0   0   0   0   0\n",
              "4       0   0   1   0  37   1   2   0   0   1\n",
              "5       0   1   3   0   0  30   1   0   0   2\n",
              "6       0   0   8   0   0   0  30   0   0   0\n",
              "7       0   0   8   0   2   0   0  37   0   0\n",
              "8       0   4   3   0   1   3   0   0  24   0\n",
              "9       1   0   4   0   1   1   0   1   1  31"
            ],
            "text/html": [
              "\n",
              "\n",
              "  <div id=\"df-d90071a7-7db4-4c12-8f96-151dc3771406\">\n",
              "    <div class=\"colab-df-container\">\n",
              "      <div>\n",
              "<style scoped>\n",
              "    .dataframe tbody tr th:only-of-type {\n",
              "        vertical-align: middle;\n",
              "    }\n",
              "\n",
              "    .dataframe tbody tr th {\n",
              "        vertical-align: top;\n",
              "    }\n",
              "\n",
              "    .dataframe thead th {\n",
              "        text-align: right;\n",
              "    }\n",
              "</style>\n",
              "<table border=\"1\" class=\"dataframe\">\n",
              "  <thead>\n",
              "    <tr style=\"text-align: right;\">\n",
              "      <th>col_0</th>\n",
              "      <th>0</th>\n",
              "      <th>1</th>\n",
              "      <th>2</th>\n",
              "      <th>3</th>\n",
              "      <th>4</th>\n",
              "      <th>5</th>\n",
              "      <th>6</th>\n",
              "      <th>7</th>\n",
              "      <th>8</th>\n",
              "      <th>9</th>\n",
              "    </tr>\n",
              "    <tr>\n",
              "      <th>row_0</th>\n",
              "      <th></th>\n",
              "      <th></th>\n",
              "      <th></th>\n",
              "      <th></th>\n",
              "      <th></th>\n",
              "      <th></th>\n",
              "      <th></th>\n",
              "      <th></th>\n",
              "      <th></th>\n",
              "      <th></th>\n",
              "    </tr>\n",
              "  </thead>\n",
              "  <tbody>\n",
              "    <tr>\n",
              "      <th>0</th>\n",
              "      <td>38</td>\n",
              "      <td>0</td>\n",
              "      <td>1</td>\n",
              "      <td>0</td>\n",
              "      <td>0</td>\n",
              "      <td>0</td>\n",
              "      <td>0</td>\n",
              "      <td>0</td>\n",
              "      <td>0</td>\n",
              "      <td>0</td>\n",
              "    </tr>\n",
              "    <tr>\n",
              "      <th>1</th>\n",
              "      <td>0</td>\n",
              "      <td>46</td>\n",
              "      <td>0</td>\n",
              "      <td>0</td>\n",
              "      <td>0</td>\n",
              "      <td>0</td>\n",
              "      <td>0</td>\n",
              "      <td>0</td>\n",
              "      <td>0</td>\n",
              "      <td>0</td>\n",
              "    </tr>\n",
              "    <tr>\n",
              "      <th>2</th>\n",
              "      <td>0</td>\n",
              "      <td>0</td>\n",
              "      <td>37</td>\n",
              "      <td>0</td>\n",
              "      <td>0</td>\n",
              "      <td>0</td>\n",
              "      <td>1</td>\n",
              "      <td>0</td>\n",
              "      <td>1</td>\n",
              "      <td>0</td>\n",
              "    </tr>\n",
              "    <tr>\n",
              "      <th>3</th>\n",
              "      <td>0</td>\n",
              "      <td>0</td>\n",
              "      <td>4</td>\n",
              "      <td>33</td>\n",
              "      <td>0</td>\n",
              "      <td>0</td>\n",
              "      <td>0</td>\n",
              "      <td>0</td>\n",
              "      <td>0</td>\n",
              "      <td>0</td>\n",
              "    </tr>\n",
              "    <tr>\n",
              "      <th>4</th>\n",
              "      <td>0</td>\n",
              "      <td>0</td>\n",
              "      <td>1</td>\n",
              "      <td>0</td>\n",
              "      <td>37</td>\n",
              "      <td>1</td>\n",
              "      <td>2</td>\n",
              "      <td>0</td>\n",
              "      <td>0</td>\n",
              "      <td>1</td>\n",
              "    </tr>\n",
              "    <tr>\n",
              "      <th>5</th>\n",
              "      <td>0</td>\n",
              "      <td>1</td>\n",
              "      <td>3</td>\n",
              "      <td>0</td>\n",
              "      <td>0</td>\n",
              "      <td>30</td>\n",
              "      <td>1</td>\n",
              "      <td>0</td>\n",
              "      <td>0</td>\n",
              "      <td>2</td>\n",
              "    </tr>\n",
              "    <tr>\n",
              "      <th>6</th>\n",
              "      <td>0</td>\n",
              "      <td>0</td>\n",
              "      <td>8</td>\n",
              "      <td>0</td>\n",
              "      <td>0</td>\n",
              "      <td>0</td>\n",
              "      <td>30</td>\n",
              "      <td>0</td>\n",
              "      <td>0</td>\n",
              "      <td>0</td>\n",
              "    </tr>\n",
              "    <tr>\n",
              "      <th>7</th>\n",
              "      <td>0</td>\n",
              "      <td>0</td>\n",
              "      <td>8</td>\n",
              "      <td>0</td>\n",
              "      <td>2</td>\n",
              "      <td>0</td>\n",
              "      <td>0</td>\n",
              "      <td>37</td>\n",
              "      <td>0</td>\n",
              "      <td>0</td>\n",
              "    </tr>\n",
              "    <tr>\n",
              "      <th>8</th>\n",
              "      <td>0</td>\n",
              "      <td>4</td>\n",
              "      <td>3</td>\n",
              "      <td>0</td>\n",
              "      <td>1</td>\n",
              "      <td>3</td>\n",
              "      <td>0</td>\n",
              "      <td>0</td>\n",
              "      <td>24</td>\n",
              "      <td>0</td>\n",
              "    </tr>\n",
              "    <tr>\n",
              "      <th>9</th>\n",
              "      <td>1</td>\n",
              "      <td>0</td>\n",
              "      <td>4</td>\n",
              "      <td>0</td>\n",
              "      <td>1</td>\n",
              "      <td>1</td>\n",
              "      <td>0</td>\n",
              "      <td>1</td>\n",
              "      <td>1</td>\n",
              "      <td>31</td>\n",
              "    </tr>\n",
              "  </tbody>\n",
              "</table>\n",
              "</div>\n",
              "      <button class=\"colab-df-convert\" onclick=\"convertToInteractive('df-d90071a7-7db4-4c12-8f96-151dc3771406')\"\n",
              "              title=\"Convert this dataframe to an interactive table.\"\n",
              "              style=\"display:none;\">\n",
              "\n",
              "  <svg xmlns=\"http://www.w3.org/2000/svg\" height=\"24px\"viewBox=\"0 0 24 24\"\n",
              "       width=\"24px\">\n",
              "    <path d=\"M0 0h24v24H0V0z\" fill=\"none\"/>\n",
              "    <path d=\"M18.56 5.44l.94 2.06.94-2.06 2.06-.94-2.06-.94-.94-2.06-.94 2.06-2.06.94zm-11 1L8.5 8.5l.94-2.06 2.06-.94-2.06-.94L8.5 2.5l-.94 2.06-2.06.94zm10 10l.94 2.06.94-2.06 2.06-.94-2.06-.94-.94-2.06-.94 2.06-2.06.94z\"/><path d=\"M17.41 7.96l-1.37-1.37c-.4-.4-.92-.59-1.43-.59-.52 0-1.04.2-1.43.59L10.3 9.45l-7.72 7.72c-.78.78-.78 2.05 0 2.83L4 21.41c.39.39.9.59 1.41.59.51 0 1.02-.2 1.41-.59l7.78-7.78 2.81-2.81c.8-.78.8-2.07 0-2.86zM5.41 20L4 18.59l7.72-7.72 1.47 1.35L5.41 20z\"/>\n",
              "  </svg>\n",
              "      </button>\n",
              "\n",
              "\n",
              "\n",
              "    <div id=\"df-78685603-77d6-47ab-996c-44eae7c90898\">\n",
              "      <button class=\"colab-df-quickchart\" onclick=\"quickchart('df-78685603-77d6-47ab-996c-44eae7c90898')\"\n",
              "              title=\"Suggest charts.\"\n",
              "              style=\"display:none;\">\n",
              "\n",
              "<svg xmlns=\"http://www.w3.org/2000/svg\" height=\"24px\"viewBox=\"0 0 24 24\"\n",
              "     width=\"24px\">\n",
              "    <g>\n",
              "        <path d=\"M19 3H5c-1.1 0-2 .9-2 2v14c0 1.1.9 2 2 2h14c1.1 0 2-.9 2-2V5c0-1.1-.9-2-2-2zM9 17H7v-7h2v7zm4 0h-2V7h2v10zm4 0h-2v-4h2v4z\"/>\n",
              "    </g>\n",
              "</svg>\n",
              "      </button>\n",
              "    </div>\n",
              "\n",
              "<style>\n",
              "  .colab-df-quickchart {\n",
              "    background-color: #E8F0FE;\n",
              "    border: none;\n",
              "    border-radius: 50%;\n",
              "    cursor: pointer;\n",
              "    display: none;\n",
              "    fill: #1967D2;\n",
              "    height: 32px;\n",
              "    padding: 0 0 0 0;\n",
              "    width: 32px;\n",
              "  }\n",
              "\n",
              "  .colab-df-quickchart:hover {\n",
              "    background-color: #E2EBFA;\n",
              "    box-shadow: 0px 1px 2px rgba(60, 64, 67, 0.3), 0px 1px 3px 1px rgba(60, 64, 67, 0.15);\n",
              "    fill: #174EA6;\n",
              "  }\n",
              "\n",
              "  [theme=dark] .colab-df-quickchart {\n",
              "    background-color: #3B4455;\n",
              "    fill: #D2E3FC;\n",
              "  }\n",
              "\n",
              "  [theme=dark] .colab-df-quickchart:hover {\n",
              "    background-color: #434B5C;\n",
              "    box-shadow: 0px 1px 3px 1px rgba(0, 0, 0, 0.15);\n",
              "    filter: drop-shadow(0px 1px 2px rgba(0, 0, 0, 0.3));\n",
              "    fill: #FFFFFF;\n",
              "  }\n",
              "</style>\n",
              "\n",
              "    <script>\n",
              "      async function quickchart(key) {\n",
              "        const containerElement = document.querySelector('#' + key);\n",
              "        const charts = await google.colab.kernel.invokeFunction(\n",
              "            'suggestCharts', [key], {});\n",
              "      }\n",
              "    </script>\n",
              "\n",
              "      <script>\n",
              "\n",
              "function displayQuickchartButton(domScope) {\n",
              "  let quickchartButtonEl =\n",
              "    domScope.querySelector('#df-78685603-77d6-47ab-996c-44eae7c90898 button.colab-df-quickchart');\n",
              "  quickchartButtonEl.style.display =\n",
              "    google.colab.kernel.accessAllowed ? 'block' : 'none';\n",
              "}\n",
              "\n",
              "        displayQuickchartButton(document);\n",
              "      </script>\n",
              "      <style>\n",
              "    .colab-df-container {\n",
              "      display:flex;\n",
              "      flex-wrap:wrap;\n",
              "      gap: 12px;\n",
              "    }\n",
              "\n",
              "    .colab-df-convert {\n",
              "      background-color: #E8F0FE;\n",
              "      border: none;\n",
              "      border-radius: 50%;\n",
              "      cursor: pointer;\n",
              "      display: none;\n",
              "      fill: #1967D2;\n",
              "      height: 32px;\n",
              "      padding: 0 0 0 0;\n",
              "      width: 32px;\n",
              "    }\n",
              "\n",
              "    .colab-df-convert:hover {\n",
              "      background-color: #E2EBFA;\n",
              "      box-shadow: 0px 1px 2px rgba(60, 64, 67, 0.3), 0px 1px 3px 1px rgba(60, 64, 67, 0.15);\n",
              "      fill: #174EA6;\n",
              "    }\n",
              "\n",
              "    [theme=dark] .colab-df-convert {\n",
              "      background-color: #3B4455;\n",
              "      fill: #D2E3FC;\n",
              "    }\n",
              "\n",
              "    [theme=dark] .colab-df-convert:hover {\n",
              "      background-color: #434B5C;\n",
              "      box-shadow: 0px 1px 3px 1px rgba(0, 0, 0, 0.15);\n",
              "      filter: drop-shadow(0px 1px 2px rgba(0, 0, 0, 0.3));\n",
              "      fill: #FFFFFF;\n",
              "    }\n",
              "  </style>\n",
              "\n",
              "      <script>\n",
              "        const buttonEl =\n",
              "          document.querySelector('#df-d90071a7-7db4-4c12-8f96-151dc3771406 button.colab-df-convert');\n",
              "        buttonEl.style.display =\n",
              "          google.colab.kernel.accessAllowed ? 'block' : 'none';\n",
              "\n",
              "        async function convertToInteractive(key) {\n",
              "          const element = document.querySelector('#df-d90071a7-7db4-4c12-8f96-151dc3771406');\n",
              "          const dataTable =\n",
              "            await google.colab.kernel.invokeFunction('convertToInteractive',\n",
              "                                                     [key], {});\n",
              "          if (!dataTable) return;\n",
              "\n",
              "          const docLinkHtml = 'Like what you see? Visit the ' +\n",
              "            '<a target=\"_blank\" href=https://colab.research.google.com/notebooks/data_table.ipynb>data table notebook</a>'\n",
              "            + ' to learn more about interactive tables.';\n",
              "          element.innerHTML = '';\n",
              "          dataTable['output_type'] = 'display_data';\n",
              "          await google.colab.output.renderOutput(dataTable, element);\n",
              "          const docLink = document.createElement('div');\n",
              "          docLink.innerHTML = docLinkHtml;\n",
              "          element.appendChild(docLink);\n",
              "        }\n",
              "      </script>\n",
              "    </div>\n",
              "  </div>\n"
            ]
          },
          "metadata": {},
          "execution_count": 16
        }
      ]
    },
    {
      "cell_type": "code",
      "source": [
        "### Confusion Matrix and Statistics\n",
        "print(classification_report(y_test, pred_svc))"
      ],
      "metadata": {
        "colab": {
          "base_uri": "https://localhost:8080/"
        },
        "id": "TiY-492tuaDc",
        "outputId": "1ff9d6b2-bfef-46c4-8c50-cff14052a36e"
      },
      "execution_count": 17,
      "outputs": [
        {
          "output_type": "stream",
          "name": "stdout",
          "text": [
            "              precision    recall  f1-score   support\n",
            "\n",
            "           0       0.97      0.97      0.97        39\n",
            "           1       0.90      1.00      0.95        46\n",
            "           2       0.54      0.95      0.69        39\n",
            "           3       1.00      0.89      0.94        37\n",
            "           4       0.90      0.88      0.89        42\n",
            "           5       0.86      0.81      0.83        37\n",
            "           6       0.88      0.79      0.83        38\n",
            "           7       0.97      0.79      0.87        47\n",
            "           8       0.92      0.69      0.79        35\n",
            "           9       0.91      0.78      0.84        40\n",
            "\n",
            "    accuracy                           0.86       400\n",
            "   macro avg       0.89      0.85      0.86       400\n",
            "weighted avg       0.89      0.86      0.86       400\n",
            "\n"
          ]
        }
      ]
    },
    {
      "cell_type": "code",
      "source": [
        "### 확인할 결과의 수\n",
        "fig_n = 10\n",
        "### 임의의 결과 확인\n",
        "rand_idx = np.random.randint(0, len(y_test), fig_n)\n",
        "### 결과 확인\n",
        "fig = plt.figure()\n",
        "for i in range(fig_n):\n",
        "    idx = rand_idx[i]\n",
        "    img = X_test_raw[idx].reshape(28, 28)\n",
        "    fig.add_subplot(1, fig_n, i+1)\n",
        "    plt.imshow(img, 'gray')\n",
        "    plt.axis('off')\n",
        "    plt.title(str(y_test[idx])+'→'+str(pred_svc[idx]))"
      ],
      "metadata": {
        "colab": {
          "base_uri": "https://localhost:8080/",
          "height": 915
        },
        "id": "bOfGUjR9udsC",
        "outputId": "440f3772-63cd-4285-c969-7d0e5bf0c6fb"
      },
      "execution_count": 18,
      "outputs": [
        {
          "output_type": "stream",
          "name": "stderr",
          "text": [
            "WARNING:matplotlib.font_manager:findfont: Font family 'Gulim' not found.\n",
            "WARNING:matplotlib.font_manager:findfont: Font family 'Gulim' not found.\n",
            "WARNING:matplotlib.font_manager:findfont: Font family 'Gulim' not found.\n",
            "WARNING:matplotlib.font_manager:findfont: Font family 'Gulim' not found.\n",
            "WARNING:matplotlib.font_manager:findfont: Font family 'Gulim' not found.\n",
            "WARNING:matplotlib.font_manager:findfont: Font family 'Gulim' not found.\n",
            "WARNING:matplotlib.font_manager:findfont: Font family 'Gulim' not found.\n",
            "WARNING:matplotlib.font_manager:findfont: Font family 'Gulim' not found.\n",
            "WARNING:matplotlib.font_manager:findfont: Font family 'Gulim' not found.\n",
            "WARNING:matplotlib.font_manager:findfont: Font family 'Gulim' not found.\n",
            "WARNING:matplotlib.font_manager:findfont: Font family 'Gulim' not found.\n",
            "WARNING:matplotlib.font_manager:findfont: Font family 'Gulim' not found.\n",
            "WARNING:matplotlib.font_manager:findfont: Font family 'Gulim' not found.\n",
            "WARNING:matplotlib.font_manager:findfont: Font family 'Gulim' not found.\n",
            "WARNING:matplotlib.font_manager:findfont: Font family 'Gulim' not found.\n",
            "WARNING:matplotlib.font_manager:findfont: Font family 'Gulim' not found.\n",
            "WARNING:matplotlib.font_manager:findfont: Font family 'Gulim' not found.\n",
            "WARNING:matplotlib.font_manager:findfont: Font family 'Gulim' not found.\n",
            "WARNING:matplotlib.font_manager:findfont: Font family 'Gulim' not found.\n",
            "WARNING:matplotlib.font_manager:findfont: Font family 'Gulim' not found.\n",
            "WARNING:matplotlib.font_manager:findfont: Font family 'Gulim' not found.\n",
            "WARNING:matplotlib.font_manager:findfont: Font family 'Gulim' not found.\n",
            "WARNING:matplotlib.font_manager:findfont: Font family 'Gulim' not found.\n",
            "WARNING:matplotlib.font_manager:findfont: Font family 'Gulim' not found.\n",
            "WARNING:matplotlib.font_manager:findfont: Font family 'Gulim' not found.\n",
            "WARNING:matplotlib.font_manager:findfont: Font family 'Gulim' not found.\n",
            "WARNING:matplotlib.font_manager:findfont: Font family 'Gulim' not found.\n",
            "WARNING:matplotlib.font_manager:findfont: Font family 'Gulim' not found.\n",
            "WARNING:matplotlib.font_manager:findfont: Font family 'Gulim' not found.\n",
            "WARNING:matplotlib.font_manager:findfont: Font family 'Gulim' not found.\n",
            "WARNING:matplotlib.font_manager:findfont: Font family 'Gulim' not found.\n",
            "WARNING:matplotlib.font_manager:findfont: Font family 'Gulim' not found.\n",
            "WARNING:matplotlib.font_manager:findfont: Font family 'Gulim' not found.\n",
            "WARNING:matplotlib.font_manager:findfont: Font family 'Gulim' not found.\n",
            "WARNING:matplotlib.font_manager:findfont: Font family 'Gulim' not found.\n",
            "WARNING:matplotlib.font_manager:findfont: Font family 'Gulim' not found.\n",
            "WARNING:matplotlib.font_manager:findfont: Font family 'Gulim' not found.\n",
            "WARNING:matplotlib.font_manager:findfont: Font family 'Gulim' not found.\n",
            "WARNING:matplotlib.font_manager:findfont: Font family 'Gulim' not found.\n",
            "WARNING:matplotlib.font_manager:findfont: Font family 'Gulim' not found.\n"
          ]
        },
        {
          "output_type": "display_data",
          "data": {
            "text/plain": [
              "<Figure size 1600x900 with 10 Axes>"
            ],
            "image/png": "[encoded data removed]"
          },
          "metadata": {}
        }
      ]
    },
    {
      "cell_type": "markdown",
      "source": [
        "▢ 모형 저장 및 불러오기"
      ],
      "metadata": {
        "id": "wL8DpwFpueBW"
      }
    },
    {
      "cell_type": "code",
      "source": [
        "### Package & module\n",
        "import joblib"
      ],
      "metadata": {
        "id": "ZCgtrf08unfe"
      },
      "execution_count": 19,
      "outputs": []
    },
    {
      "cell_type": "code",
      "source": [
        "### 모형 저장\n",
        "joblib.dump(fit_svc, \"fit_svc.pkl\")"
      ],
      "metadata": {
        "colab": {
          "base_uri": "https://localhost:8080/"
        },
        "id": "M6TjhzhwuodW",
        "outputId": "482daa89-54c7-4458-a434-c578fc174a37"
      },
      "execution_count": 20,
      "outputs": [
        {
          "output_type": "execute_result",
          "data": {
            "text/plain": [
              "['fit_svc.pkl']"
            ]
          },
          "metadata": {},
          "execution_count": 20
        }
      ]
    },
    {
      "cell_type": "code",
      "source": [
        "### scaler 저장\n",
        "joblib.dump(scaler, \"scaler.pkl\")"
      ],
      "metadata": {
        "colab": {
          "base_uri": "https://localhost:8080/"
        },
        "id": "EmR-b7xVuppX",
        "outputId": "f690155f-ba19-495b-c192-7c9f375483e8"
      },
      "execution_count": 21,
      "outputs": [
        {
          "output_type": "execute_result",
          "data": {
            "text/plain": [
              "['scaler.pkl']"
            ]
          },
          "metadata": {},
          "execution_count": 21
        }
      ]
    },
    {
      "cell_type": "code",
      "source": [
        "### 모형 불러오기\n",
        "model = joblib.load(\"fit_svc.pkl\")"
      ],
      "metadata": {
        "id": "GA89cN76uuCI"
      },
      "execution_count": 22,
      "outputs": []
    },
    {
      "cell_type": "code",
      "source": [
        "### 영상 분류\n",
        "pred_model = model.predict(X_test[:20])"
      ],
      "metadata": {
        "id": "ws6C4IoWuvpW"
      },
      "execution_count": 23,
      "outputs": []
    },
    {
      "cell_type": "code",
      "source": [
        "### 분류 결과 확인\n",
        "fig_n = len(pred_model)\n",
        "fig = plt.figure()\n",
        "for i in range(fig_n):\n",
        "    img = X_test_raw[i].reshape(28, 28)\n",
        "    fig.add_subplot(1, fig_n, i+1)\n",
        "    plt.imshow(img, 'gray')\n",
        "    plt.axis('off')\n",
        "    plt.title(str(y_test[i])+'→'+str(pred_model[i]))"
      ],
      "metadata": {
        "colab": {
          "base_uri": "https://localhost:8080/",
          "height": 1000
        },
        "id": "RYHmYY_xux9E",
        "outputId": "23c067a4-4eb0-4112-f3c4-b7177a62ed55"
      },
      "execution_count": 24,
      "outputs": [
        {
          "output_type": "stream",
          "name": "stderr",
          "text": [
            "WARNING:matplotlib.font_manager:findfont: Font family 'Gulim' not found.\n",
            "WARNING:matplotlib.font_manager:findfont: Font family 'Gulim' not found.\n",
            "WARNING:matplotlib.font_manager:findfont: Font family 'Gulim' not found.\n",
            "WARNING:matplotlib.font_manager:findfont: Font family 'Gulim' not found.\n",
            "WARNING:matplotlib.font_manager:findfont: Font family 'Gulim' not found.\n",
            "WARNING:matplotlib.font_manager:findfont: Font family 'Gulim' not found.\n",
            "WARNING:matplotlib.font_manager:findfont: Font family 'Gulim' not found.\n",
            "WARNING:matplotlib.font_manager:findfont: Font family 'Gulim' not found.\n",
            "WARNING:matplotlib.font_manager:findfont: Font family 'Gulim' not found.\n",
            "WARNING:matplotlib.font_manager:findfont: Font family 'Gulim' not found.\n",
            "WARNING:matplotlib.font_manager:findfont: Font family 'Gulim' not found.\n",
            "WARNING:matplotlib.font_manager:findfont: Font family 'Gulim' not found.\n",
            "WARNING:matplotlib.font_manager:findfont: Font family 'Gulim' not found.\n",
            "WARNING:matplotlib.font_manager:findfont: Font family 'Gulim' not found.\n",
            "WARNING:matplotlib.font_manager:findfont: Font family 'Gulim' not found.\n",
            "WARNING:matplotlib.font_manager:findfont: Font family 'Gulim' not found.\n",
            "WARNING:matplotlib.font_manager:findfont: Font family 'Gulim' not found.\n",
            "WARNING:matplotlib.font_manager:findfont: Font family 'Gulim' not found.\n",
            "WARNING:matplotlib.font_manager:findfont: Font family 'Gulim' not found.\n",
            "WARNING:matplotlib.font_manager:findfont: Font family 'Gulim' not found.\n",
            "WARNING:matplotlib.font_manager:findfont: Font family 'Gulim' not found.\n",
            "WARNING:matplotlib.font_manager:findfont: Font family 'Gulim' not found.\n",
            "WARNING:matplotlib.font_manager:findfont: Font family 'Gulim' not found.\n",
            "WARNING:matplotlib.font_manager:findfont: Font family 'Gulim' not found.\n",
            "WARNING:matplotlib.font_manager:findfont: Font family 'Gulim' not found.\n",
            "WARNING:matplotlib.font_manager:findfont: Font family 'Gulim' not found.\n",
            "WARNING:matplotlib.font_manager:findfont: Font family 'Gulim' not found.\n",
            "WARNING:matplotlib.font_manager:findfont: Font family 'Gulim' not found.\n",
            "WARNING:matplotlib.font_manager:findfont: Font family 'Gulim' not found.\n",
            "WARNING:matplotlib.font_manager:findfont: Font family 'Gulim' not found.\n",
            "WARNING:matplotlib.font_manager:findfont: Font family 'Gulim' not found.\n",
            "WARNING:matplotlib.font_manager:findfont: Font family 'Gulim' not found.\n",
            "WARNING:matplotlib.font_manager:findfont: Font family 'Gulim' not found.\n",
            "WARNING:matplotlib.font_manager:findfont: Font family 'Gulim' not found.\n",
            "WARNING:matplotlib.font_manager:findfont: Font family 'Gulim' not found.\n",
            "WARNING:matplotlib.font_manager:findfont: Font family 'Gulim' not found.\n",
            "WARNING:matplotlib.font_manager:findfont: Font family 'Gulim' not found.\n",
            "WARNING:matplotlib.font_manager:findfont: Font family 'Gulim' not found.\n",
            "WARNING:matplotlib.font_manager:findfont: Font family 'Gulim' not found.\n",
            "WARNING:matplotlib.font_manager:findfont: Font family 'Gulim' not found.\n",
            "WARNING:matplotlib.font_manager:findfont: Font family 'Gulim' not found.\n",
            "WARNING:matplotlib.font_manager:findfont: Font family 'Gulim' not found.\n",
            "WARNING:matplotlib.font_manager:findfont: Font family 'Gulim' not found.\n",
            "WARNING:matplotlib.font_manager:findfont: Font family 'Gulim' not found.\n",
            "WARNING:matplotlib.font_manager:findfont: Font family 'Gulim' not found.\n",
            "WARNING:matplotlib.font_manager:findfont: Font family 'Gulim' not found.\n",
            "WARNING:matplotlib.font_manager:findfont: Font family 'Gulim' not found.\n",
            "WARNING:matplotlib.font_manager:findfont: Font family 'Gulim' not found.\n",
            "WARNING:matplotlib.font_manager:findfont: Font family 'Gulim' not found.\n",
            "WARNING:matplotlib.font_manager:findfont: Font family 'Gulim' not found.\n",
            "WARNING:matplotlib.font_manager:findfont: Font family 'Gulim' not found.\n",
            "WARNING:matplotlib.font_manager:findfont: Font family 'Gulim' not found.\n",
            "WARNING:matplotlib.font_manager:findfont: Font family 'Gulim' not found.\n",
            "WARNING:matplotlib.font_manager:findfont: Font family 'Gulim' not found.\n",
            "WARNING:matplotlib.font_manager:findfont: Font family 'Gulim' not found.\n",
            "WARNING:matplotlib.font_manager:findfont: Font family 'Gulim' not found.\n",
            "WARNING:matplotlib.font_manager:findfont: Font family 'Gulim' not found.\n",
            "WARNING:matplotlib.font_manager:findfont: Font family 'Gulim' not found.\n",
            "WARNING:matplotlib.font_manager:findfont: Font family 'Gulim' not found.\n",
            "WARNING:matplotlib.font_manager:findfont: Font family 'Gulim' not found.\n",
            "WARNING:matplotlib.font_manager:findfont: Font family 'Gulim' not found.\n",
            "WARNING:matplotlib.font_manager:findfont: Font family 'Gulim' not found.\n",
            "WARNING:matplotlib.font_manager:findfont: Font family 'Gulim' not found.\n",
            "WARNING:matplotlib.font_manager:findfont: Font family 'Gulim' not found.\n",
            "WARNING:matplotlib.font_manager:findfont: Font family 'Gulim' not found.\n",
            "WARNING:matplotlib.font_manager:findfont: Font family 'Gulim' not found.\n",
            "WARNING:matplotlib.font_manager:findfont: Font family 'Gulim' not found.\n",
            "WARNING:matplotlib.font_manager:findfont: Font family 'Gulim' not found.\n",
            "WARNING:matplotlib.font_manager:findfont: Font family 'Gulim' not found.\n",
            "WARNING:matplotlib.font_manager:findfont: Font family 'Gulim' not found.\n",
            "WARNING:matplotlib.font_manager:findfont: Font family 'Gulim' not found.\n",
            "WARNING:matplotlib.font_manager:findfont: Font family 'Gulim' not found.\n"
          ]
        },
        {
          "output_type": "display_data",
          "data": {
            "text/plain": [
              "<Figure size 1600x900 with 20 Axes>"
            ],
            "image/png": "[encoded data removed]"
          },
          "metadata": {}
        }
      ]
    }
  ]
}